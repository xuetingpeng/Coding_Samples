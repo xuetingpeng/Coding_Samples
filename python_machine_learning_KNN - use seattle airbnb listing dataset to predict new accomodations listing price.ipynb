{
 "cells": [
  {
   "cell_type": "markdown",
   "metadata": {},
   "source": [
    "# KNN for Airbnb Listing Pricing\n",
    "The below codes use the airbnb seattle listing features and price to train the knn model, by tunning different features and n_neibors values, it can be used to predict new aribnb listing price. \n",
    "For example, I have a place with 2 bedrooms, 3 beds and can accommodate 4 people, this model will let me know that my place can be rented out at around $158 in Seattle Airbnb market."
   ]
  },
  {
   "cell_type": "code",
   "execution_count": 1,
   "metadata": {},
   "outputs": [],
   "source": [
    "import pandas as pd\n",
    "import numpy as np\n",
    "from sklearn.preprocessing import StandardScaler\n",
    "from sklearn.neighbors import KNeighborsRegressor"
   ]
  },
  {
   "cell_type": "code",
   "execution_count": 2,
   "metadata": {},
   "outputs": [
    {
     "name": "stdout",
     "output_type": "stream",
     "text": [
      "Here is the info of Airbnb Seattle Listing file\n",
      "<class 'pandas.core.frame.DataFrame'>\n",
      "RangeIndex: 7505 entries, 0 to 7504\n",
      "Columns: 106 entries, id to reviews_per_month\n",
      "dtypes: float64(19), int64(23), object(64)\n",
      "memory usage: 6.1+ MB\n"
     ]
    }
   ],
   "source": [
    "#read data\n",
    "df = pd.read_csv('listings.csv')\n",
    "print('Here is the info of Airbnb Seattle Listing file')\n",
    "df.info()"
   ]
  },
  {
   "cell_type": "code",
   "execution_count": 3,
   "metadata": {},
   "outputs": [],
   "source": [
    "#define feature columns and do data cleaning\n",
    "feature_columns = ['accommodates','bathrooms','bedrooms','beds','price']\n",
    "df['price'] = df['price'].str.replace('\\$|,','').astype(float)\n",
    "#print(df.head())"
   ]
  },
  {
   "cell_type": "code",
   "execution_count": 4,
   "metadata": {},
   "outputs": [],
   "source": [
    "#standardize the data\n",
    "df_valueset = df[feature_columns].dropna()\n",
    "scaler= StandardScaler().fit(df_valueset)\n",
    "df_valueset_normed = scaler.transform(df_valueset)\n",
    "df_valueset_normed_df = pd.DataFrame(df_valueset_normed, index=df_valueset.index, columns=df_valueset.columns)\n",
    "#df_valueset.info()\n",
    "#print(df_valueset)\n",
    "#print(df_valueset_normed_df)"
   ]
  },
  {
   "cell_type": "code",
   "execution_count": 5,
   "metadata": {},
   "outputs": [],
   "source": [
    "#define training set and test set\n",
    "df_train= df_valueset_normed_df.iloc[:6000]\n",
    "df_test = df_valueset_normed_df.iloc[6000:]"
   ]
  },
  {
   "cell_type": "code",
   "execution_count": 6,
   "metadata": {},
   "outputs": [],
   "source": [
    "#fit the KNN model then predict the test set\n",
    "cols = ['accommodates','bedrooms','beds'] #cols can be used to adjust the model\n",
    "\n",
    "neigh = KNeighborsRegressor(n_neighbors=50) # n_neighbors can be used to adjust the model\n",
    "neigh.fit(df_train[cols],df_train['price'])\n",
    "\n",
    "prediction = neigh.predict(df_test[cols])"
   ]
  },
  {
   "cell_type": "code",
   "execution_count": 7,
   "metadata": {},
   "outputs": [
    {
     "name": "stdout",
     "output_type": "stream",
     "text": [
      "1.9066139649836509\n"
     ]
    }
   ],
   "source": [
    "#use the test set to see the model accuracy\n",
    "from sklearn.metrics import mean_squared_error\n",
    "mse = mean_squared_error(prediction, df_test['price'])\n",
    "mser = mse**(1/2)\n",
    "print(mser) # This can test the accuracy of the model"
   ]
  },
  {
   "cell_type": "code",
   "execution_count": 8,
   "metadata": {},
   "outputs": [
    {
     "name": "stdout",
     "output_type": "stream",
     "text": [
      "[[ 0.12284015 -1.97831425  0.57871191  0.73650024 -0.59873115]]\n"
     ]
    }
   ],
   "source": [
    "myplace = [[4,0,2,3,0]]\n",
    "myplace_normed = scaler.transform(myplace)\n",
    "print(myplace_normed)"
   ]
  },
  {
   "cell_type": "code",
   "execution_count": 9,
   "metadata": {},
   "outputs": [
    {
     "name": "stdout",
     "output_type": "stream",
     "text": [
      "The predicted market price is: $[157.99951023]\n"
     ]
    }
   ],
   "source": [
    "#use the knn model trained above, if I have a place with 2 bedrooms, 3 beds and can accommodate 4 people, using the market data, I can probably airbnb it out at the below price:\n",
    "prediction_myplace_normed = neigh.predict([[0.12284015,0.57871191,0.73650024]])\n",
    "price_mean = df_valueset['price'].mean()\n",
    "price_std = df_valueset['price'].std()\n",
    "prediction_myplace = prediction_myplace_normed*price_std+price_mean\n",
    "print('The predicted market price is: $'+ str(prediction_myplace))"
   ]
  },
  {
   "cell_type": "markdown",
   "metadata": {},
   "source": [
    "Additional Note:KNN is quick and easy to use, but due to its algorithm that scan thorugh all dataset, compute the distance then return the velue based on defined 'n'neibors', it can be time consuiming to run on very large dataset"
   ]
  }
 ],
 "metadata": {
  "kernelspec": {
   "display_name": "Python 3",
   "language": "python",
   "name": "python3"
  },
  "language_info": {
   "codemirror_mode": {
    "name": "ipython",
    "version": 3
   },
   "file_extension": ".py",
   "mimetype": "text/x-python",
   "name": "python",
   "nbconvert_exporter": "python",
   "pygments_lexer": "ipython3",
   "version": "3.7.4"
  }
 },
 "nbformat": 4,
 "nbformat_minor": 2
}
